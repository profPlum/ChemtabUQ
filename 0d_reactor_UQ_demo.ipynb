{
 "cells": [
  {
   "cell_type": "code",
   "execution_count": null,
   "metadata": {},
   "outputs": [
    {
     "ename": "",
     "evalue": "",
     "output_type": "error",
     "traceback": [
      "\u001b[1;31mJupyter cannot be started. Error attempting to locate Jupyter: Running cells with 'Python 3.10.9 ('base': conda)' requires notebook and jupyter package.\n",
      "\u001b[1;31mRun the following command to install 'jupyter and notebook' into the Python environment. \n",
      "\u001b[1;31mCommand: 'python -m pip install jupyter notebook -U\n",
      "\u001b[1;31mor\n",
      "\u001b[1;31mconda install jupyter notebook -U'\n",
      "\u001b[1;31mClick <a href='https://aka.ms/installJupyterForVSCode'>here</a> for more info."
     ]
    }
   ],
   "source": [
    "from ChemtabUQ import *\n",
    "\n",
    "df_fn = f'{os.environ[\"HOME\"]}/data/chrest_contiguous_group_sample.csv'\n",
    "moments_dataset = UQMomentsDataset(df_fn, inputs_like='Yi', outputs_like='souspec', group_key='group')"
   ]
  },
  {
   "cell_type": "code",
   "execution_count": null,
   "metadata": {},
   "outputs": [],
   "source": [
    "sample_from_uncertainty = False # TODO: implement!!\n",
    "\n",
    "# get ICs\n",
    "(mu, sigma), outs = moments_dataset[0]\n",
    "Yi_state=mu + th.randn(*sigma.shape)*sigma*sample_from_uncertainty\n",
    "Yi_sigma=sigma\n",
    "\n",
    "mean_regressor = th.load('mean_regressor.pt')\n",
    "std_regressor = th.load('std_regressor.pt') # technically this one was trained on MAE, close enough\n",
    "\n",
    "n_time_steps = 1000\n",
    "dt = 1e-7\n",
    "\n",
    "for i in range(n_time_steps):\n",
    "    Yi_dot = mean_regressor(Yi_state)\n",
    "    Yi_state += Yi_dot*dt\n",
    "\n",
    "    Yi_dot_std = std_regressor()\n"
   ]
  }
 ],
 "metadata": {
  "kernelspec": {
   "display_name": "Python 3.10.9 ('base': conda)",
   "language": "python",
   "name": "python3"
  },
  "language_info": {
   "name": "python",
   "version": "3.10.9"
  },
  "orig_nbformat": 4,
  "vscode": {
   "interpreter": {
    "hash": "5f00520861159396a01a762740cbb77abb91c91a07c7a59d15619217e3e2fe9e"
   }
  }
 },
 "nbformat": 4,
 "nbformat_minor": 2
}
