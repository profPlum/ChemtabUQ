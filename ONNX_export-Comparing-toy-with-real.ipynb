{
 "cells": [
  {
   "cell_type": "code",
   "execution_count": 8,
   "id": "f33f5138",
   "metadata": {
    "scrolled": true
   },
   "outputs": [],
   "source": [
    "import pytorch_lightning as pl\n",
    "import torch as pt\n",
    "\n",
    "# MUST import tensorflow SECOND or else you will encounter ambiguous error!\n",
    "import tensorflow as tf\n",
    "physical_devices = tf.config.list_physical_devices('GPU')\n",
    "tf.config.experimental.set_memory_growth(physical_devices[0], True)\n",
    "\n",
    "import ChemtabUQ"
   ]
  },
  {
   "cell_type": "code",
   "execution_count": 2,
   "id": "a16a67d8-f59e-44aa-ad49-764ed28d6c9b",
   "metadata": {},
   "outputs": [
    {
     "name": "stdout",
     "output_type": "stream",
     "text": [
      "Here is our dummy test model: \n",
      "Sequential(\n",
      "  (0): BatchNorm1d(25, eps=1e-05, momentum=0.1, affine=True, track_running_stats=True)\n",
      "  (1): Linear(in_features=25, out_features=100, bias=True)\n",
      "  (2): SELU()\n",
      "  (3): Linear(in_features=100, out_features=100, bias=True)\n",
      "  (4): SELU()\n",
      "  (5): Linear(in_features=100, out_features=100, bias=True)\n",
      "  (6): SELU()\n",
      "  (7): Linear(in_features=100, out_features=100, bias=True)\n",
      "  (8): Linear(in_features=100, out_features=25, bias=True)\n",
      ")\n"
     ]
    }
   ],
   "source": [
    "import torch as pt\n",
    "from torch import nn\n",
    "import torch.nn.functional as F\n",
    "import torchmetrics.functional as F_metrics\n",
    "\n",
    "def make_MLP(input_size, output_size, batch_norm=True):\n",
    "    n_layers = 4\n",
    "    hidden_size = input_size*4\n",
    "\n",
    "    # fix input size\n",
    "    bulk_layers = [nn.Linear(input_size,hidden_size)]\n",
    "    if batch_norm: bulk_layers = [nn.BatchNorm1d(input_size)] + bulk_layers\n",
    "    \n",
    "    for i in range(n_layers-1): # this should be safer then potentially copying layers by reference...\n",
    "        bulk_layers.extend([nn.SELU(), nn.Linear(hidden_size,hidden_size)])\n",
    "\n",
    "    # build & fix output size\n",
    "    regressor = nn.Sequential(*bulk_layers, nn.Linear(hidden_size, output_size))\n",
    "    return regressor\n",
    "    \n",
    "mlp_pt = make_MLP(25, 25, batch_norm=True)\n",
    "print('Here is our dummy test model: ')\n",
    "print(mlp_pt)"
   ]
  },
  {
   "cell_type": "code",
   "execution_count": 3,
   "id": "0ac840de-be0d-4ee2-afb1-08911dbea4be",
   "metadata": {},
   "outputs": [
    {
     "name": "stdout",
     "output_type": "stream",
     "text": [
      "/project/dwyer/home/CTV2_master/ChemtabUQ\n",
      "['../CT_logs_Mu/Selu-Scaled-PCA-CT/version_13512833/checkpoints/epoch=95-step=96.ckpt', '../CT_logs_Mu/Selu-Scaled-PCA-CT/version_13512731/checkpoints/epoch=2945-step=2946.ckpt', '../CT_logs_Mu/Selu-Scaled-PCA-CT/version_13512731/checkpoints/epoch=2591-step=2592.ckpt', '../CT_logs_Mu/Selu-Scaled-PCA-CT/version_13512731/checkpoints/epoch=2946-step=2947.ckpt', '../CT_logs_Mu/Selu-Scaled-PCA-CT/version_13479785/checkpoints/epoch=5082-step=5083.ckpt', '../CT_logs_Mu/Selu-Scaled-PCA-CT/version_13478300/checkpoints/epoch=5026-step=5027.ckpt']\n"
     ]
    }
   ],
   "source": [
    "import os\n",
    "from glob import glob\n",
    "import random\n",
    "import sys\n",
    "\n",
    "print(os.getcwd())\n",
    "candidate_ckpts=glob('../CT_logs_Mu/Selu-Scaled*/*/checkpoints/*.ckpt')\n",
    "print(candidate_ckpts)"
   ]
  },
  {
   "cell_type": "markdown",
   "id": "1dbe12f9-9fb5-4193-8c4f-2217cc54a7f6",
   "metadata": {},
   "source": [
    "## Randomly Select Valid Checkpoint"
   ]
  },
  {
   "cell_type": "code",
   "execution_count": 4,
   "id": "41481eaf-f5e8-48c6-aefc-b62360e52b1f",
   "metadata": {},
   "outputs": [
    {
     "name": "stdout",
     "output_type": "stream",
     "text": [
      "\n",
      "####################################################################################################\n",
      "randomly selected ckpt_path = \n",
      "../CT_logs_Mu/Selu-Scaled-PCA-CT/version_13478300/checkpoints/epoch=5026-step=5027.ckpt\n"
     ]
    }
   ],
   "source": [
    "for i in range(100):\n",
    "    ckpt_path = random.choice(candidate_ckpts)\n",
    "    try:\n",
    "        PL_module = ChemtabUQ.FFRegressor.load_from_checkpoint(ckpt_path, input_size=25)\n",
    "        break\n",
    "    except Exception as e:\n",
    "        print('#'*50, file=sys.stderr)\n",
    "        print('loading failed: ', e, file=sys.stderr)\n",
    "        print('#'*50, file=sys.stderr, flush=True)\n",
    "        continue\n",
    "print('\\n' + '#'*100)\n",
    "print(f'randomly selected ckpt_path = \\n{ckpt_path}')"
   ]
  },
  {
   "cell_type": "code",
   "execution_count": 9,
   "id": "c8467dbe-8cce-49ae-9033-1349bfccb4bb",
   "metadata": {},
   "outputs": [],
   "source": [
    "#ckpt_path = './'\n",
    "#PL_module = mlp_pt\n",
    "\n",
    "from ChemtabUQ import *\n",
    "\n",
    "#ckpt_path='../CT_logs_Mu/Selu-Scaled-PCA-CT/version_13478300/checkpoints/epoch=5026-step=5027.ckpt'\n",
    "ckpt_path='../CT_logs_Mu/Inv-Selu-Scaled-PCA-CT/version_13515056/checkpoints/epoch=4764-step=4765.ckpt'\n",
    "PL_module = ChemtabUQ.FFRegressor.load_from_checkpoint(ckpt_path)\n",
    "#PL_module = ChemtabUQ.FFRegressor(25, 25)\n",
    "#inputs = PL_module.example_input_array\n",
    "##in_shape=inputs.shape\n",
    "\n",
    "in_shape = (128,53)\n",
    "inputs = pt.randn(*in_shape).cpu()"
   ]
  },
  {
   "cell_type": "code",
   "execution_count": 7,
   "id": "7a978061-b989-4b9f-b494-ac2402f57bb0",
   "metadata": {},
   "outputs": [
    {
     "name": "stderr",
     "output_type": "stream",
     "text": [
      "/project/dwyer/home/mambaforge/envs/CTV2/lib/python3.9/site-packages/sklearn/base.py:347: InconsistentVersionWarning: Trying to unpickle estimator StandardScaler from version 1.2.2 when using version 1.3.0. This might lead to breaking code or invalid results. Use at your own risk. For more info please refer to:\n",
      "https://scikit-learn.org/stable/model_persistence.html#security-maintainability-limitations\n",
      "  warnings.warn(\n"
     ]
    },
    {
     "ename": "ValueError",
     "evalue": ".csv, .yml or .yaml is required for `hparams_file`",
     "output_type": "error",
     "traceback": [
      "\u001b[0;31m---------------------------------------------------------------------------\u001b[0m",
      "\u001b[0;31mValueError\u001b[0m                                Traceback (most recent call last)",
      "Cell \u001b[0;32mIn[7], line 1\u001b[0m\n\u001b[0;32m----> 1\u001b[0m PLD_module \u001b[38;5;241m=\u001b[39m \u001b[43mChemtabUQ\u001b[49m\u001b[38;5;241;43m.\u001b[39;49m\u001b[43mMeanRegressorDataModule\u001b[49m\u001b[38;5;241;43m.\u001b[39;49m\u001b[43mload_from_checkpoint\u001b[49m\u001b[43m(\u001b[49m\u001b[43mckpt_path\u001b[49m\u001b[43m,\u001b[49m\u001b[43m \u001b[49m\u001b[38;5;124;43m'\u001b[39;49m\u001b[38;5;124;43m../data/TChem+CPV_MassR2.csv.gz\u001b[39;49m\u001b[38;5;124;43m'\u001b[39;49m\u001b[43m,\u001b[49m\u001b[43m \u001b[49m\u001b[43mkwd_args\u001b[49m\u001b[38;5;241;43m=\u001b[39;49m\u001b[43m{\u001b[49m\u001b[43m}\u001b[49m\u001b[43m)\u001b[49m\n\u001b[1;32m      3\u001b[0m \u001b[38;5;28mprint\u001b[39m(\u001b[38;5;124m\"\u001b[39m\u001b[38;5;124mdir(PL_module)): \u001b[39m\u001b[38;5;124m\"\u001b[39m)\n\u001b[1;32m      4\u001b[0m attr_names \u001b[38;5;241m=\u001b[39m [k \u001b[38;5;28;01mfor\u001b[39;00m k \u001b[38;5;129;01min\u001b[39;00m \u001b[38;5;28mvars\u001b[39m(PLD_module)\u001b[38;5;241m.\u001b[39mkeys() \u001b[38;5;28;01mif\u001b[39;00m \u001b[38;5;129;01mnot\u001b[39;00m k\u001b[38;5;241m.\u001b[39mstartswith(\u001b[38;5;124m'\u001b[39m\u001b[38;5;124m_\u001b[39m\u001b[38;5;124m'\u001b[39m)]\n",
      "File \u001b[0;32m/project/dwyer/home/mambaforge/envs/CTV2/lib/python3.9/site-packages/pytorch_lightning/core/datamodule.py:276\u001b[0m, in \u001b[0;36mLightningDataModule.load_from_checkpoint\u001b[0;34m(cls, checkpoint_path, hparams_file, **kwargs)\u001b[0m\n\u001b[1;32m    216\u001b[0m \u001b[38;5;129m@classmethod\u001b[39m\n\u001b[1;32m    217\u001b[0m \u001b[38;5;28;01mdef\u001b[39;00m \u001b[38;5;21mload_from_checkpoint\u001b[39m(\n\u001b[1;32m    218\u001b[0m     \u001b[38;5;28mcls\u001b[39m,\n\u001b[0;32m   (...)\u001b[0m\n\u001b[1;32m    221\u001b[0m     \u001b[38;5;241m*\u001b[39m\u001b[38;5;241m*\u001b[39mkwargs: Any,\n\u001b[1;32m    222\u001b[0m ) \u001b[38;5;241m-\u001b[39m\u001b[38;5;241m>\u001b[39m Self:  \u001b[38;5;66;03m# type: ignore[valid-type]\u001b[39;00m\n\u001b[1;32m    223\u001b[0m \u001b[38;5;250m    \u001b[39m\u001b[38;5;124mr\u001b[39m\u001b[38;5;124;03m\"\"\"\u001b[39;00m\n\u001b[1;32m    224\u001b[0m \u001b[38;5;124;03m    Primary way of loading a datamodule from a checkpoint. When Lightning saves a checkpoint\u001b[39;00m\n\u001b[1;32m    225\u001b[0m \u001b[38;5;124;03m    it stores the arguments passed to ``__init__``  in the checkpoint under ``\"datamodule_hyper_parameters\"``.\u001b[39;00m\n\u001b[0;32m   (...)\u001b[0m\n\u001b[1;32m    274\u001b[0m \n\u001b[1;32m    275\u001b[0m \u001b[38;5;124;03m    \"\"\"\u001b[39;00m\n\u001b[0;32m--> 276\u001b[0m     \u001b[38;5;28;01mreturn\u001b[39;00m \u001b[43m_load_from_checkpoint\u001b[49m\u001b[43m(\u001b[49m\n\u001b[1;32m    277\u001b[0m \u001b[43m        \u001b[49m\u001b[38;5;28;43mcls\u001b[39;49m\u001b[43m,\u001b[49m\n\u001b[1;32m    278\u001b[0m \u001b[43m        \u001b[49m\u001b[43mcheckpoint_path\u001b[49m\u001b[43m,\u001b[49m\n\u001b[1;32m    279\u001b[0m \u001b[43m        \u001b[49m\u001b[43mmap_location\u001b[49m\u001b[38;5;241;43m=\u001b[39;49m\u001b[38;5;28;43;01mNone\u001b[39;49;00m\u001b[43m,\u001b[49m\n\u001b[1;32m    280\u001b[0m \u001b[43m        \u001b[49m\u001b[43mhparams_file\u001b[49m\u001b[38;5;241;43m=\u001b[39;49m\u001b[43mhparams_file\u001b[49m\u001b[43m,\u001b[49m\n\u001b[1;32m    281\u001b[0m \u001b[43m        \u001b[49m\u001b[43mstrict\u001b[49m\u001b[38;5;241;43m=\u001b[39;49m\u001b[38;5;28;43;01mNone\u001b[39;49;00m\u001b[43m,\u001b[49m\n\u001b[1;32m    282\u001b[0m \u001b[43m        \u001b[49m\u001b[38;5;241;43m*\u001b[39;49m\u001b[38;5;241;43m*\u001b[39;49m\u001b[43mkwargs\u001b[49m\u001b[43m,\u001b[49m\n\u001b[1;32m    283\u001b[0m \u001b[43m    \u001b[49m\u001b[43m)\u001b[49m\n",
      "File \u001b[0;32m/project/dwyer/home/mambaforge/envs/CTV2/lib/python3.9/site-packages/pytorch_lightning/core/saving.py:174\u001b[0m, in \u001b[0;36m_load_from_checkpoint\u001b[0;34m(cls, checkpoint_path, map_location, hparams_file, strict, **kwargs)\u001b[0m\n\u001b[1;32m    172\u001b[0m     hparams \u001b[38;5;241m=\u001b[39m load_hparams_from_yaml(hparams_file)\n\u001b[1;32m    173\u001b[0m \u001b[38;5;28;01melse\u001b[39;00m:\n\u001b[0;32m--> 174\u001b[0m     \u001b[38;5;28;01mraise\u001b[39;00m \u001b[38;5;167;01mValueError\u001b[39;00m(\u001b[38;5;124m\"\u001b[39m\u001b[38;5;124m.csv, .yml or .yaml is required for `hparams_file`\u001b[39m\u001b[38;5;124m\"\u001b[39m)\n\u001b[1;32m    176\u001b[0m \u001b[38;5;66;03m# overwrite hparams by the given file\u001b[39;00m\n\u001b[1;32m    177\u001b[0m checkpoint[\u001b[38;5;28mcls\u001b[39m\u001b[38;5;241m.\u001b[39mCHECKPOINT_HYPER_PARAMS_KEY] \u001b[38;5;241m=\u001b[39m hparams\n",
      "\u001b[0;31mValueError\u001b[0m: .csv, .yml or .yaml is required for `hparams_file`"
     ]
    }
   ],
   "source": [
    "PLD_module = ChemtabUQ.MeanRegressorDataModule.load_from_checkpoint(ckpt_path, '../data/TChem+CPV_MassR2.csv.gz', kwd_args={})\n",
    "\n",
    "print(\"dir(PL_module)): \")\n",
    "attr_names = [k for k in vars(PLD_module).keys() if not k.startswith('_')]\n",
    "print(attr_names)\n",
    "print(vars(PL_module))\n",
    "#print('PLD_module.kwd_args.keys: ', PLD_module.kwd_args.keys())\n",
    "#PLD_module.kwd_args['scaled_output']\n"
   ]
  },
  {
   "cell_type": "code",
   "execution_count": null,
   "id": "e841cb5f-1786-4393-b247-97d91833575a",
   "metadata": {},
   "outputs": [],
   "source": [
    "PLD_module.kwd_args.keys()"
   ]
  },
  {
   "cell_type": "code",
   "execution_count": 54,
   "id": "98e051cb-912a-45e4-ba65-481584fcf8b6",
   "metadata": {},
   "outputs": [
    {
     "name": "stdout",
     "output_type": "stream",
     "text": [
      "type(dataset):  <class 'ChemtabUQ.UQSamplesDataset'>\n",
      "{'input_scaler': None, 'output_scaler': None, 'df_mu': tensor([[2.3391e-03, 7.7041e-08, 1.4150e-08,  ..., 8.9734e-06, 7.1985e-05,\n",
      "         3.1123e-01],\n",
      "        [2.8348e-03, 9.1243e-08, 1.8190e-08,  ..., 1.5372e-05, 8.1920e-05,\n",
      "         3.0925e-01],\n",
      "        [3.8666e-03, 1.3288e-07, 3.2373e-08,  ..., 2.7735e-05, 9.9713e-05,\n",
      "         3.1002e-01],\n",
      "        ...,\n",
      "        [7.2268e-05, 6.1035e-05, 1.0364e-02,  ..., 2.6499e-06, 8.0690e-07,\n",
      "         3.4938e-01],\n",
      "        [2.4881e-05, 1.9804e-05, 4.9334e-03,  ..., 2.0471e-06, 9.8544e-07,\n",
      "         2.9280e-01],\n",
      "        [6.4486e-06, 3.9388e-06, 1.3568e-03,  ..., 7.3877e-07, 5.4886e-07,\n",
      "         2.0262e-01]]), 'df_sigma': tensor([[2.1410e-03, 6.8461e-08, 2.4350e-08,  ..., 1.2298e-05, 4.8550e-05,\n",
      "         1.5038e-01],\n",
      "        [2.2777e-03, 6.9687e-08, 2.4661e-08,  ..., 1.6697e-05, 4.5258e-05,\n",
      "         1.4633e-01],\n",
      "        [2.5276e-03, 6.5549e-08, 3.3381e-08,  ..., 3.7452e-05, 4.4746e-05,\n",
      "         1.3360e-01],\n",
      "        ...,\n",
      "        [1.6388e-05, 1.3401e-05, 2.8485e-03,  ..., 1.9288e-05, 5.3654e-06,\n",
      "         1.4750e-01],\n",
      "        [8.6916e-06, 5.9771e-06, 1.8308e-03,  ..., 1.0160e-05, 4.4459e-06,\n",
      "         1.5378e-01],\n",
      "        [2.8230e-06, 1.7307e-06, 6.7571e-04,  ..., 2.2677e-06, 1.7436e-06,\n",
      "         1.3513e-01]]), 'outs_df': tensor([[ 2.0493e-01, -3.1092e-06, -9.9565e-06,  ..., -1.7810e-02,\n",
      "          1.1084e-02, -2.7366e-08],\n",
      "        [ 2.2374e-01, -5.0478e-05, -2.9843e-05,  ..., -1.0769e-02,\n",
      "          2.1037e-02, -2.9311e-08],\n",
      "        [ 3.0054e-01, -1.9360e-04, -7.4782e-05,  ...,  5.0397e-02,\n",
      "          5.7497e-02, -3.2745e-08],\n",
      "        ...,\n",
      "        [-7.2889e-01, -7.2667e-01, -2.5556e+01,  ...,  4.0742e-02,\n",
      "          1.0519e-02, -1.1731e-01],\n",
      "        [-3.4803e-01, -3.0813e-01, -2.3965e+01,  ...,  2.1866e-02,\n",
      "          9.9507e-03,  1.0685e-02],\n",
      "        [-9.0677e-02, -9.2291e-02, -1.8848e+01,  ...,  3.7613e-03,\n",
      "          3.5686e-03,  7.9959e-06]]), 'input_col_names': Index(['YiH2', 'YiH', 'YiO', 'YiO2', 'YiOH', 'YiH2O', 'YiHO2', 'YiH2O2', 'YiC',\n",
      "       'YiCH', 'YiCH2', 'YiCH2(S)', 'YiCH3', 'YiCH4', 'YiCO', 'YiCO2', 'YiHCO',\n",
      "       'YiCH2O', 'YiCH2OH', 'YiCH3O', 'YiCH3OH', 'YiC2H', 'YiC2H2', 'YiC2H3',\n",
      "       'YiC2H4', 'YiC2H5', 'YiC2H6', 'YiHCCO', 'YiCH2CO', 'YiHCCOH', 'YiN',\n",
      "       'YiNH', 'YiNH2', 'YiNH3', 'YiNNH', 'YiNO', 'YiNO2', 'YiN2O', 'YiHNO',\n",
      "       'YiCN', 'YiHCN', 'YiH2CN', 'YiHCNN', 'YiHCNO', 'YiHOCN', 'YiHNCO',\n",
      "       'YiNCO', 'YiAR', 'YiC3H7', 'YiC3H8', 'YiCH2CHO', 'YiCH3CHO', 'YiN2'],\n",
      "      dtype='object'), 'output_col_names': Index(['souspecH2', 'souspecH', 'souspecO', 'souspecO2', 'souspecOH',\n",
      "       'souspecH2O', 'souspecHO2', 'souspecH2O2', 'souspecC', 'souspecCH',\n",
      "       'souspecCH2', 'souspecCH2(S)', 'souspecCH3', 'souspecCH4', 'souspecCO',\n",
      "       'souspecCO2', 'souspecHCO', 'souspecCH2O', 'souspecCH2OH',\n",
      "       'souspecCH3O', 'souspecCH3OH', 'souspecC2H', 'souspecC2H2',\n",
      "       'souspecC2H3', 'souspecC2H4', 'souspecC2H5', 'souspecC2H6',\n",
      "       'souspecHCCO', 'souspecCH2CO', 'souspecHCCOH', 'souspecN', 'souspecNH',\n",
      "       'souspecNH2', 'souspecNH3', 'souspecNNH', 'souspecNO', 'souspecNO2',\n",
      "       'souspecN2O', 'souspecHNO', 'souspecCN', 'souspecHCN', 'souspecH2CN',\n",
      "       'souspecHCNN', 'souspecHCNO', 'souspecHOCN', 'souspecHNCO',\n",
      "       'souspecNCO', 'souspecAR', 'souspecC3H7', 'souspecC3H8',\n",
      "       'souspecCH2CHO', 'souspecCH3CHO', 'souspecN2'],\n",
      "      dtype='object')}\n"
     ]
    }
   ],
   "source": [
    "print('type(dataset): ', type(PLD_module.dataset))\n",
    "print(vars(PLD_module.dataset.moments_dataset))\n"
   ]
  },
  {
   "cell_type": "code",
   "execution_count": 33,
   "id": "1fa6dd95",
   "metadata": {
    "scrolled": true
   },
   "outputs": [],
   "source": [
    "target_outputs = PL_module.cpu().forward(inputs).detach().cpu().numpy()\n",
    "test_inputs=inputs.cpu().detach().numpy()"
   ]
  },
  {
   "cell_type": "markdown",
   "id": "9801e83b-6ffd-46f1-a5b2-e540cdfc2575",
   "metadata": {},
   "source": [
    "## Confirm that Converted Model is the same"
   ]
  },
  {
   "cell_type": "code",
   "execution_count": 25,
   "id": "13edf843-912f-409d-8cce-eeac65111578",
   "metadata": {},
   "outputs": [],
   "source": [
    "def test_outputs(yt, yp):\n",
    "    import tensorflow as tf\n",
    "    MAE = lambda yt, yp, axis=None: tf.reduce_mean(tf.math.abs(yp-yt), axis=axis).numpy().item()\n",
    "    MSE = lambda yt, yp, axis=None: tf.reduce_mean((yp-yt)**2, axis=axis).numpy().item()\n",
    "    R2 = lambda yt, yp: 1-tf.reduce_mean(tf.reduce_mean((yp-yt)**2, axis=0)/tf.math.reduce_variance(yt, axis=0)).numpy().item()\n",
    "    print('sanity R^2: ', R2(yt, yp))\n",
    "    print('sanity MAE: ', MAE(yt, yp))\n",
    "    print('sanity MSE: ', MSE(yt, yp))\n",
    "    \n",
    "    import matplotlib.pyplot as plt\n",
    "    plt.imshow(yp[:5,:])\n",
    "    plt.title('Predicted Output Sample:')\n",
    "    plt.show()\n",
    "    plt.imshow(yt[:5,:])\n",
    "    plt.title('Expected Output Sample:')\n",
    "    plt.show()\n",
    "\n",
    "    # Machine error is approximately 1e-7, \n",
    "    # so we make sure it is within machine error tolerance.\n",
    "    assert MAE(yt, yp) < 1e-6\n",
    "\n",
    "def test_models(torch_model, TF_model):\n",
    "    in_shape = (128,25)\n",
    "    inputs = pt.randn(*in_shape).cpu()\n",
    "\n",
    "    target_outputs = torch_model.cpu().forward(inputs).detach().cpu().numpy()\n",
    "    test_inputs=inputs.cpu().detach().numpy()\n",
    "\n",
    "    try: # first assume TF_model is keras model, if it fails try treating it like raw TF model\n",
    "        actual_output=keras_model(test_inputs)\n",
    "    except Exception as e:\n",
    "        print('Failed to use TF model as keras model, with exception: ', e, file=sys.err)\n",
    "        print('Retrying as raw TF model', file=sys.err)\n",
    "        actual_output=keras_model(input=test_inputs)['output']\n",
    "    \n",
    "    test_outputs(target_outputs, actual_output)\n",
    "    "
   ]
  },
  {
   "cell_type": "markdown",
   "id": "e7f4b297-d5ac-4c84-bcfa-f10a1d7c0b17",
   "metadata": {},
   "source": [
    "## Convert PL --> ONNX"
   ]
  },
  {
   "cell_type": "code",
   "execution_count": 37,
   "id": "e6b52785-2920-426e-889f-9086c1fff576",
   "metadata": {},
   "outputs": [
    {
     "name": "stdout",
     "output_type": "stream",
     "text": [
      "Automatic pdb calling has been turned OFF\n",
      "saving to : ../CT_logs_Mu/Selu-Scaled-PCA-CT/version_13479785/checkpoints/model.onnx\n",
      "============= Diagnostic Run torch.onnx.export version 2.0.1+cu117 =============\n",
      "verbose: False, log level: Level.ERROR\n",
      "======================= 0 NONE 0 NOTE 0 WARNING 0 ERROR ========================\n",
      "\n"
     ]
    },
    {
     "data": {
      "text/plain": [
       "\"PL_module.to_onnx(onnx_model_path, export_params=True, #training=TrainingMode.TRAINING,\\n                  input_names=['input'], output_names=['output'], do_constant_folding=False,\\n                  dynamic_axes={'input' : {0 : 'batch_size'}, # variable length axes\\n                                'output' : {0 : 'batch_size'}})\""
      ]
     },
     "execution_count": 37,
     "metadata": {},
     "output_type": "execute_result"
    }
   ],
   "source": [
    "\"\"\"\n",
    "torch.onnx.export(torch_model,               # model being run\n",
    "                  x,                         # model input (or a tuple for multiple inputs)\n",
    "                  \"super_resolution.onnx\",   # where to save the model (can be a file or file-like object)\n",
    "                  export_params=True,        # store the trained parameter weights inside the model file\n",
    "                  opset_version=10,          # the ONNX version to export the model to\n",
    "                  do_constant_folding=True,  # whether to execute constant folding for optimization\n",
    "                  input_names = ['input'],   # the model's input names\n",
    "                  output_names = ['output'], # the model's output names\n",
    "                  dynamic_axes={'input' : {0 : 'batch_size'},    # variable length axes\n",
    "                                'output' : {0 : 'batch_size'}})\n",
    "\"\"\"\n",
    "\n",
    "import os\n",
    "from torch.onnx import TrainingMode\n",
    "%pdb off\n",
    "\n",
    "onnx_model_path = os.path.dirname(ckpt_path)+'/model.onnx'\n",
    "try: os.remove(onnx_model_path)\n",
    "except: None\n",
    "print('saving to :', onnx_model_path)\n",
    "\n",
    "pt.onnx.export(PL_module, (inputs,), onnx_model_path, training=TrainingMode.TRAINING,\n",
    "               input_names=['input'], output_names=['output'], do_constant_folding=False,\n",
    "               dynamic_axes={'input' : {0 : 'batch_size'}, # variable length axes\n",
    "                             'output' : {0 : 'batch_size'}})\n",
    "\n",
    "\"\"\"PL_module.to_onnx(onnx_model_path, export_params=True, #training=TrainingMode.TRAINING,\n",
    "                  input_names=['input'], output_names=['output'], do_constant_folding=False,\n",
    "                  dynamic_axes={'input' : {0 : 'batch_size'}, # variable length axes\n",
    "                                'output' : {0 : 'batch_size'}})\"\"\""
   ]
  },
  {
   "cell_type": "markdown",
   "id": "3c0e9d41-c51c-4655-a202-db369037b7a7",
   "metadata": {},
   "source": [
    "## ONNX --> TF/Keras"
   ]
  },
  {
   "cell_type": "code",
   "execution_count": 38,
   "id": "65d7c005-53b9-4461-bd59-1f00f62c41ba",
   "metadata": {},
   "outputs": [
    {
     "name": "stdout",
     "output_type": "stream",
     "text": [
      "onnx_model_path:  ../CT_logs_Mu/Selu-Scaled-PCA-CT/version_13479785/checkpoints/model.onnx\n"
     ]
    }
   ],
   "source": [
    "import onnx\n",
    "print('onnx_model_path: ', onnx_model_path)\n",
    "onnx_model = onnx.load(onnx_model_path)\n",
    "onnx.checker.check_model(onnx_model)\n",
    "\n",
    "tf_model_path = os.path.dirname(ckpt_path)+'/model_TF'"
   ]
  },
  {
   "cell_type": "code",
   "execution_count": 39,
   "id": "44420e76-227a-4ec3-8654-d4561a340994",
   "metadata": {},
   "outputs": [
    {
     "name": "stdout",
     "output_type": "stream",
     "text": [
      "INFO:tensorflow:Assets written to: ../CT_logs_Mu/Selu-Scaled-PCA-CT/version_13479785/checkpoints/model_TF/assets\n"
     ]
    },
    {
     "name": "stderr",
     "output_type": "stream",
     "text": [
      "INFO:tensorflow:Assets written to: ../CT_logs_Mu/Selu-Scaled-PCA-CT/version_13479785/checkpoints/model_TF/assets\n"
     ]
    }
   ],
   "source": [
    "# To TF\n",
    "from onnx_tf.backend import prepare\n",
    "tf_rep = prepare(onnx_model)\n",
    "tf_rep.export_graph(tf_model_path)"
   ]
  },
  {
   "cell_type": "code",
   "execution_count": 42,
   "id": "50b8aafa-e8e8-4d20-908b-5bb5735b07f2",
   "metadata": {},
   "outputs": [
    {
     "name": "stdout",
     "output_type": "stream",
     "text": [
      "WARNING:tensorflow:Compiled the loaded model, but the compiled metrics have yet to be built. `model.compile_metrics` will be empty until you train or evaluate the model.\n"
     ]
    },
    {
     "name": "stderr",
     "output_type": "stream",
     "text": [
      "WARNING:tensorflow:Compiled the loaded model, but the compiled metrics have yet to be built. `model.compile_metrics` will be empty until you train or evaluate the model.\n"
     ]
    },
    {
     "name": "stdout",
     "output_type": "stream",
     "text": [
      "INFO:tensorflow:Assets written to: ../CT_logs_Mu/Selu-Scaled-PCA-CT/version_13479785/checkpoints/model_TF/assets\n"
     ]
    },
    {
     "name": "stderr",
     "output_type": "stream",
     "text": [
      "INFO:tensorflow:Assets written to: ../CT_logs_Mu/Selu-Scaled-PCA-CT/version_13479785/checkpoints/model_TF/assets\n"
     ]
    }
   ],
   "source": [
    "# To Keras\n",
    "from onnx2keras import onnx_to_keras\n",
    "keras_rep = onnx_to_keras(onnx_model, ['input'], name_policy=\"renumerate\")\n",
    "keras_rep.save(tf_model_path)\n",
    "#tf_rep.export_graph(tf_model_path)"
   ]
  },
  {
   "cell_type": "code",
   "execution_count": 43,
   "id": "7fae0865-2c41-4524-9f8a-eab45319f66f",
   "metadata": {},
   "outputs": [
    {
     "name": "stdout",
     "output_type": "stream",
     "text": [
      "NOTE: most informative metric here is R^2 (aka % explained variance,\n",
      "R^2<0 implies worse than guessing mean)\n",
      "sanity R^2:  0.9999999999972928\n",
      "sanity MAE:  1.868380081759824e-07\n",
      "sanity MSE:  5.480248958626699e-14\n"
     ]
    },
    {
     "data": {
      "image/png": "[encoded data removed]",
      "text/plain": [
       "<Figure size 640x480 with 1 Axes>"
      ]
     },
     "metadata": {},
     "output_type": "display_data"
    },
    {
     "data": {
      "image/png": "[encoded data removed]",
      "text/plain": [
       "<Figure size 640x480 with 1 Axes>"
      ]
     },
     "metadata": {},
     "output_type": "display_data"
    }
   ],
   "source": [
    "import onnxruntime as ort\n",
    "import numpy as np\n",
    "\n",
    "ort_sess = ort.InferenceSession(onnx_model_path, providers=['CPUExecutionProvider'])\n",
    "onnx_outputs = ort_sess.run(None, {'input': test_inputs})[0]\n",
    "\n",
    "test_outputs(target_outputs, onnx_outputs)"
   ]
  },
  {
   "cell_type": "code",
   "execution_count": 49,
   "id": "5bc86b3d-1660-44cb-a25b-41cb49506e66",
   "metadata": {},
   "outputs": [
    {
     "name": "stdout",
     "output_type": "stream",
     "text": [
      "Automatic pdb calling has been turned OFF\n",
      "WARNING:tensorflow:No training configuration found in save file, so the model was *not* compiled. Compile it manually.\n"
     ]
    },
    {
     "name": "stderr",
     "output_type": "stream",
     "text": [
      "WARNING:tensorflow:No training configuration found in save file, so the model was *not* compiled. Compile it manually.\n"
     ]
    },
    {
     "name": "stdout",
     "output_type": "stream",
     "text": [
      "NOTE: most informative metric here is R^2 (aka % explained variance,\n",
      "R^2<0 implies worse than guessing mean)\n",
      "sanity R^2:  0.9999999999972274\n",
      "sanity MAE:  1.8942633062124514e-07\n",
      "sanity MSE:  5.648959286994916e-14\n"
     ]
    },
    {
     "data": {
      "image/png": "[encoded data removed]",
      "text/plain": [
       "<Figure size 640x480 with 1 Axes>"
      ]
     },
     "metadata": {},
     "output_type": "display_data"
    },
    {
     "data": {
      "image/png": "[encoded data removed]",
      "text/plain": [
       "<Figure size 640x480 with 1 Axes>"
      ]
     },
     "metadata": {},
     "output_type": "display_data"
    },
    {
     "name": "stdout",
     "output_type": "stream",
     "text": [
      "Model: \"model_3\"\n",
      "_________________________________________________________________\n",
      " Layer (type)                Output Shape              Param #   \n",
      "=================================================================\n",
      " input (InputLayer)          [(None, 25)]              0         \n",
      "                                                                 \n",
      " LAYER_0 (Dense)             (None, 100)               2600      \n",
      "                                                                 \n",
      " LAYER_1 (Activation)        (None, 100)               0         \n",
      "                                                                 \n",
      " LAYER_2 (Dense)             (None, 100)               10100     \n",
      "                                                                 \n",
      " LAYER_3 (Activation)        (None, 100)               0         \n",
      "                                                                 \n",
      " LAYER_4 (Dense)             (None, 100)               10100     \n",
      "                                                                 \n",
      " LAYER_5 (Activation)        (None, 100)               0         \n",
      "                                                                 \n",
      " LAYER_6 (Dense)             (None, 100)               10100     \n",
      "                                                                 \n",
      " LAYER_7 (Activation)        (None, 100)               0         \n",
      "                                                                 \n",
      " LAYER_8 (Dense)             (None, 100)               10100     \n",
      "                                                                 \n",
      " LAYER_9 (Activation)        (None, 100)               0         \n",
      "                                                                 \n",
      " LAYER_10 (Dense)            (None, 100)               10100     \n",
      "                                                                 \n",
      " LAYER_11 (Activation)       (None, 100)               0         \n",
      "                                                                 \n",
      " LAYER_12 (Dense)            (None, 100)               10100     \n",
      "                                                                 \n",
      " LAYER_13 (Activation)       (None, 100)               0         \n",
      "                                                                 \n",
      " LAYER_14 (Dense)            (None, 100)               10100     \n",
      "                                                                 \n",
      " LAYER_15 (Dense)            (None, 25)                2525      \n",
      "                                                                 \n",
      "=================================================================\n",
      "Total params: 75825 (296.19 KB)\n",
      "Trainable params: 75825 (296.19 KB)\n",
      "Non-trainable params: 0 (0.00 Byte)\n",
      "_________________________________________________________________\n"
     ]
    }
   ],
   "source": [
    "%pdb off\n",
    "import tensorflow as tf\n",
    "import tensorflow.keras as keras\n",
    "from tensorflow.keras import layers as L\n",
    "keras_version = keras.models.load_model(tf_model_path)\n",
    "\n",
    "actual_output=keras_version(test_inputs)\n",
    "test_outputs(target_outputs, actual_output)\n",
    "\n",
    "keras_version.summary()"
   ]
  },
  {
   "cell_type": "code",
   "execution_count": 52,
   "id": "b8e66228-cdc0-4839-ad1e-d30530f55805",
   "metadata": {},
   "outputs": [
    {
     "name": "stdout",
     "output_type": "stream",
     "text": [
      "Model: \"model_4\"\n",
      "_________________________________________________________________\n",
      " Layer (type)                Output Shape              Param #   \n",
      "=================================================================\n",
      " input_8 (InputLayer)        [(None, 25)]              0         \n",
      "                                                                 \n",
      " in_wrapping_layer (Rescali  (None, 25)                0         \n",
      " ng)                                                             \n",
      "                                                                 \n",
      " model_3 (Functional)        (None, 25)                75825     \n",
      "                                                                 \n",
      " out_wrapping_layer (Rescal  (None, 25)                0         \n",
      " ing)                                                            \n",
      "                                                                 \n",
      "=================================================================\n",
      "Total params: 75825 (296.19 KB)\n",
      "Trainable params: 75825 (296.19 KB)\n",
      "Non-trainable params: 0 (0.00 Byte)\n",
      "_________________________________________________________________\n"
     ]
    }
   ],
   "source": [
    "output = input = L.Input(in_shape[1:])\n",
    "output = L.Rescaling(1, 0, name='in_wrapping_layer')(output)\n",
    "#L.Dense(64, activation='selu', name='in_wrapping_layer')(output)\n",
    "output = keras_version(output)\n",
    "output = L.Rescaling(1, 0, name='out_wrapping_layer')(output)\n",
    "#output = L.Dense(64, activation='selu', name='out_wrapping_layer')(output)\n",
    "keras_wrapper = keras.models.Model(inputs=input, outputs=output)\n",
    "#keras_wrapper = keras.models.Sequential()\n",
    "#keras_wrapper.add(L.Dense(64, activation='selu', name='in_wrapping_layer'))\n",
    "keras_wrapper.summary()"
   ]
  },
  {
   "cell_type": "code",
   "execution_count": null,
   "id": "5db75d64-dfbd-49c0-b3c6-87ce5d9ff44b",
   "metadata": {},
   "outputs": [],
   "source": []
  }
 ],
 "metadata": {
  "kernelspec": {
   "display_name": "Python 3 (ipykernel)",
   "language": "python",
   "name": "python3"
  },
  "language_info": {
   "codemirror_mode": {
    "name": "ipython",
    "version": 3
   },
   "file_extension": ".py",
   "mimetype": "text/x-python",
   "name": "python",
   "nbconvert_exporter": "python",
   "pygments_lexer": "ipython3",
   "version": "3.9.0"
  }
 },
 "nbformat": 4,
 "nbformat_minor": 5
}
