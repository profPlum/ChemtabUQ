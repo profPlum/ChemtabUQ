{
 "cells": [
  {
   "cell_type": "code",
   "execution_count": 1,
   "id": "f33f5138",
   "metadata": {
    "scrolled": true
   },
   "outputs": [
    {
     "name": "stderr",
     "output_type": "stream",
     "text": [
      "2023-09-20 18:10:45.339273: I tensorflow/core/util/port.cc:110] oneDNN custom operations are on. You may see slightly different numerical results due to floating-point round-off errors from different computation orders. To turn them off, set the environment variable `TF_ENABLE_ONEDNN_OPTS=0`.\n",
      "2023-09-20 18:10:45.371359: I tensorflow/core/platform/cpu_feature_guard.cc:182] This TensorFlow binary is optimized to use available CPU instructions in performance-critical operations.\n",
      "To enable the following instructions: AVX2 AVX512F AVX512_VNNI FMA, in other operations, rebuild TensorFlow with the appropriate compiler flags.\n",
      "2023-09-20 18:10:45.974699: W tensorflow/compiler/tf2tensorrt/utils/py_utils.cc:38] TF-TRT Warning: Could not find TensorRT\n"
     ]
    }
   ],
   "source": [
    "import pytorch_lightning as pl\n",
    "import torch as pt\n",
    "\n",
    "# MUST import tensorflow SECOND or else you will encounter ambiguous error!\n",
    "import tensorflow as tf\n",
    "physical_devices = tf.config.list_physical_devices('GPU')\n",
    "tf.config.experimental.set_memory_growth(physical_devices[0], True)\n",
    "\n",
    "import ChemtabUQ"
   ]
  },
  {
   "cell_type": "code",
   "execution_count": 2,
   "id": "09a75c80-7232-4cbd-8f29-7ef81bb9e2ff",
   "metadata": {},
   "outputs": [
    {
     "name": "stdout",
     "output_type": "stream",
     "text": [
      "/project/dwyer/home/CTV2_master/ChemtabUQ\n",
      "[]\n"
     ]
    }
   ],
   "source": [
    "import os\n",
    "from glob import glob\n",
    "print(os.getcwd())\n",
    "print(glob('../CT_logs_Mu/PCA-CT/*/checkpoints/*'))"
   ]
  },
  {
   "cell_type": "code",
   "execution_count": 50,
   "id": "a16a67d8-f59e-44aa-ad49-764ed28d6c9b",
   "metadata": {},
   "outputs": [],
   "source": [
    "from torch import nn\n",
    "import torch.nn.functional as F\n",
    "import torchmetrics.functional as F_metrics\n",
    "\n",
    "def make_MLP(input_size, output_size):\n",
    "    hidden_size = input_size*4\n",
    "    n_layers = 4\n",
    "    bulk_layers = []\n",
    "    for i in range(n_layers-1): # this should be safer then potentially copying layers by reference...\n",
    "        bulk_layers.extend([nn.SELU(), nn.Linear(hidden_size,hidden_size)])\n",
    "    regressor = nn.Sequential(nn.BatchNorm1d(input_size),nn.Linear(input_size,hidden_size),*bulk_layers, nn.Linear(hidden_size, output_size))\n",
    "    return regressor\n",
    "mlp_pt = make_MLP(25, 25)"
   ]
  },
  {
   "cell_type": "code",
   "execution_count": 54,
   "id": "c8467dbe-8cce-49ae-9033-1349bfccb4bb",
   "metadata": {},
   "outputs": [],
   "source": [
    "PL_module = mlp_pt\n",
    "\n",
    "#ckpt_path='../CT_logs_Mu/PCA-CT/version_13420073/checkpoints/epoch=10438-step=10439.ckpt'\n",
    "#PL_module = ChemtabUQ.FFRegressor.load_from_checkpoint(ckpt_path, input_size=25)\n",
    "##inputs = PL_module.example_input_array\n",
    "##in_shape=inputs.shape\n",
    "\n",
    "in_shape = (8,25)\n",
    "inputs = pt.randn(*in_shape).cpu()"
   ]
  },
  {
   "cell_type": "code",
   "execution_count": 55,
   "id": "1fa6dd95",
   "metadata": {
    "scrolled": true
   },
   "outputs": [],
   "source": [
    "target_outputs = PL_module.cpu().forward(inputs).detach().cpu().numpy()\n",
    "test_inputs=inputs.cpu().detach().numpy()"
   ]
  },
  {
   "cell_type": "code",
   "execution_count": 56,
   "id": "e6b52785-2920-426e-889f-9086c1fff576",
   "metadata": {},
   "outputs": [
    {
     "name": "stdout",
     "output_type": "stream",
     "text": [
      "Automatic pdb calling has been turned ON\n",
      "saving to : ../CT_logs_Mu/PCA-CT/version_13420073/checkpoints/model.onnx\n"
     ]
    },
    {
     "ename": "AttributeError",
     "evalue": "'Sequential' object has no attribute 'to_onnx'",
     "output_type": "error",
     "traceback": [
      "\u001b[0;31m---------------------------------------------------------------------------\u001b[0m",
      "\u001b[0;31mAttributeError\u001b[0m                            Traceback (most recent call last)",
      "Cell \u001b[0;32mIn[56], line 23\u001b[0m\n\u001b[1;32m     20\u001b[0m \u001b[38;5;28;01mexcept\u001b[39;00m: \u001b[38;5;28;01mNone\u001b[39;00m\n\u001b[1;32m     21\u001b[0m \u001b[38;5;28mprint\u001b[39m(\u001b[38;5;124m'\u001b[39m\u001b[38;5;124msaving to :\u001b[39m\u001b[38;5;124m'\u001b[39m, onnx_model_path)\n\u001b[0;32m---> 23\u001b[0m \u001b[43mPL_module\u001b[49m\u001b[38;5;241;43m.\u001b[39;49m\u001b[43mto_onnx\u001b[49m(onnx_model_path, export_params\u001b[38;5;241m=\u001b[39m\u001b[38;5;28;01mTrue\u001b[39;00m, \u001b[38;5;66;03m#training=TrainingMode.TRAINING,\u001b[39;00m\n\u001b[1;32m     24\u001b[0m                   input_names\u001b[38;5;241m=\u001b[39m[\u001b[38;5;124m'\u001b[39m\u001b[38;5;124minput\u001b[39m\u001b[38;5;124m'\u001b[39m], output_names\u001b[38;5;241m=\u001b[39m[\u001b[38;5;124m'\u001b[39m\u001b[38;5;124moutput\u001b[39m\u001b[38;5;124m'\u001b[39m], do_constant_folding\u001b[38;5;241m=\u001b[39m\u001b[38;5;28;01mFalse\u001b[39;00m,\n\u001b[1;32m     25\u001b[0m                   dynamic_axes\u001b[38;5;241m=\u001b[39m{\u001b[38;5;124m'\u001b[39m\u001b[38;5;124minput\u001b[39m\u001b[38;5;124m'\u001b[39m : {\u001b[38;5;241m0\u001b[39m : \u001b[38;5;124m'\u001b[39m\u001b[38;5;124mbatch_size\u001b[39m\u001b[38;5;124m'\u001b[39m}, \u001b[38;5;66;03m# variable length axes\u001b[39;00m\n\u001b[1;32m     26\u001b[0m                                 \u001b[38;5;124m'\u001b[39m\u001b[38;5;124moutput\u001b[39m\u001b[38;5;124m'\u001b[39m : {\u001b[38;5;241m0\u001b[39m : \u001b[38;5;124m'\u001b[39m\u001b[38;5;124mbatch_size\u001b[39m\u001b[38;5;124m'\u001b[39m}})\n",
      "File \u001b[0;32m/project/dwyer/home/mambaforge/envs/CTV2/lib/python3.9/site-packages/torch/nn/modules/module.py:1614\u001b[0m, in \u001b[0;36mModule.__getattr__\u001b[0;34m(self, name)\u001b[0m\n\u001b[1;32m   1612\u001b[0m     \u001b[38;5;28;01mif\u001b[39;00m name \u001b[38;5;129;01min\u001b[39;00m modules:\n\u001b[1;32m   1613\u001b[0m         \u001b[38;5;28;01mreturn\u001b[39;00m modules[name]\n\u001b[0;32m-> 1614\u001b[0m \u001b[38;5;28;01mraise\u001b[39;00m \u001b[38;5;167;01mAttributeError\u001b[39;00m(\u001b[38;5;124m\"\u001b[39m\u001b[38;5;124m'\u001b[39m\u001b[38;5;132;01m{}\u001b[39;00m\u001b[38;5;124m'\u001b[39m\u001b[38;5;124m object has no attribute \u001b[39m\u001b[38;5;124m'\u001b[39m\u001b[38;5;132;01m{}\u001b[39;00m\u001b[38;5;124m'\u001b[39m\u001b[38;5;124m\"\u001b[39m\u001b[38;5;241m.\u001b[39mformat(\n\u001b[1;32m   1615\u001b[0m     \u001b[38;5;28mtype\u001b[39m(\u001b[38;5;28mself\u001b[39m)\u001b[38;5;241m.\u001b[39m\u001b[38;5;18m__name__\u001b[39m, name))\n",
      "\u001b[0;31mAttributeError\u001b[0m: 'Sequential' object has no attribute 'to_onnx'"
     ]
    },
    {
     "name": "stdout",
     "output_type": "stream",
     "text": [
      "> \u001b[0;32m/project/dwyer/home/mambaforge/envs/CTV2/lib/python3.9/site-packages/torch/nn/modules/module.py\u001b[0m(1614)\u001b[0;36m__getattr__\u001b[0;34m()\u001b[0m\n",
      "\u001b[0;32m   1612 \u001b[0;31m            \u001b[0;32mif\u001b[0m \u001b[0mname\u001b[0m \u001b[0;32min\u001b[0m \u001b[0mmodules\u001b[0m\u001b[0;34m:\u001b[0m\u001b[0;34m\u001b[0m\u001b[0;34m\u001b[0m\u001b[0m\n",
      "\u001b[0m\u001b[0;32m   1613 \u001b[0;31m                \u001b[0;32mreturn\u001b[0m \u001b[0mmodules\u001b[0m\u001b[0;34m[\u001b[0m\u001b[0mname\u001b[0m\u001b[0;34m]\u001b[0m\u001b[0;34m\u001b[0m\u001b[0;34m\u001b[0m\u001b[0m\n",
      "\u001b[0m\u001b[0;32m-> 1614 \u001b[0;31m        raise AttributeError(\"'{}' object has no attribute '{}'\".format(\n",
      "\u001b[0m\u001b[0;32m   1615 \u001b[0;31m            type(self).__name__, name))\n",
      "\u001b[0m\u001b[0;32m   1616 \u001b[0;31m\u001b[0;34m\u001b[0m\u001b[0m\n",
      "\u001b[0m\n"
     ]
    },
    {
     "name": "stdin",
     "output_type": "stream",
     "text": [
      "ipdb>  q\n"
     ]
    }
   ],
   "source": [
    "\"\"\"\n",
    "torch.onnx.export(torch_model,               # model being run\n",
    "                  x,                         # model input (or a tuple for multiple inputs)\n",
    "                  \"super_resolution.onnx\",   # where to save the model (can be a file or file-like object)\n",
    "                  export_params=True,        # store the trained parameter weights inside the model file\n",
    "                  opset_version=10,          # the ONNX version to export the model to\n",
    "                  do_constant_folding=True,  # whether to execute constant folding for optimization\n",
    "                  input_names = ['input'],   # the model's input names\n",
    "                  output_names = ['output'], # the model's output names\n",
    "                  dynamic_axes={'input' : {0 : 'batch_size'},    # variable length axes\n",
    "                                'output' : {0 : 'batch_size'}})\n",
    "\"\"\"\n",
    "\n",
    "import os\n",
    "from torch.onnx import TrainingMode\n",
    "%pdb on\n",
    "\n",
    "onnx_model_path = os.path.dirname(ckpt_path)+'/model.onnx'\n",
    "try: os.remove(onnx_model_path)\n",
    "except: None\n",
    "print('saving to :', onnx_model_path)\n",
    "\n",
    "PL_module.to_onnx(onnx_model_path, export_params=True, #training=TrainingMode.TRAINING,\n",
    "                  input_names=['input'], output_names=['output'], do_constant_folding=False,\n",
    "                  dynamic_axes={'input' : {0 : 'batch_size'}, # variable length axes\n",
    "                                'output' : {0 : 'batch_size'}})"
   ]
  },
  {
   "cell_type": "code",
   "execution_count": 45,
   "id": "65d7c005-53b9-4461-bd59-1f00f62c41ba",
   "metadata": {},
   "outputs": [
    {
     "name": "stdout",
     "output_type": "stream",
     "text": [
      "onnx_model_path:  ../CT_logs_Mu/PCA-CT/version_13420073/checkpoints/model.onnx\n",
      "INFO:tensorflow:Assets written to: ../CT_logs_Mu/PCA-CT/version_13420073/checkpoints/model_TF/assets\n"
     ]
    },
    {
     "name": "stderr",
     "output_type": "stream",
     "text": [
      "INFO:tensorflow:Assets written to: ../CT_logs_Mu/PCA-CT/version_13420073/checkpoints/model_TF/assets\n"
     ]
    }
   ],
   "source": [
    "import onnx\n",
    "from onnx_tf.backend import prepare\n",
    "print('onnx_model_path: ', onnx_model_path)\n",
    "onnx_model = onnx.load(onnx_model_path)\n",
    "onnx.checker.check_model(onnx_model)\n",
    "tf_rep = prepare(onnx_model)\n",
    "tf_model_path = os.path.dirname(ckpt_path)+'/model_TF'\n",
    "tf_rep.export_graph(tf_model_path)\n",
    "#print(onnx_model)"
   ]
  },
  {
   "cell_type": "code",
   "execution_count": 46,
   "id": "7fae0865-2c41-4524-9f8a-eab45319f66f",
   "metadata": {},
   "outputs": [
    {
     "name": "stdout",
     "output_type": "stream",
     "text": [
      "recon mae:  139.19832\n"
     ]
    },
    {
     "data": {
      "image/png": "[encoded data removed]",
      "text/plain": [
       "<Figure size 640x480 with 1 Axes>"
      ]
     },
     "metadata": {},
     "output_type": "display_data"
    },
    {
     "data": {
      "image/png": "[encoded data removed]",
      "text/plain": [
       "<Figure size 640x480 with 1 Axes>"
      ]
     },
     "metadata": {},
     "output_type": "display_data"
    }
   ],
   "source": [
    "import onnxruntime as ort\n",
    "import numpy as np\n",
    "\n",
    "ort_sess = ort.InferenceSession(onnx_model_path, providers=['CPUExecutionProvider'])\n",
    "onnx_outputs = ort_sess.run(None, {'input': test_inputs})[0]\n",
    "mae = np.mean(np.abs(onnx_outputs-target_outputs))\n",
    "\n",
    "print('recon mae: ', mae)\n",
    "\n",
    "import matplotlib.pyplot as plt\n",
    "plt.imshow(onnx_outputs)\n",
    "plt.show()\n",
    "plt.imshow(target_outputs)\n",
    "plt.show()"
   ]
  },
  {
   "cell_type": "code",
   "execution_count": 47,
   "id": "5bc86b3d-1660-44cb-a25b-41cb49506e66",
   "metadata": {},
   "outputs": [
    {
     "name": "stdout",
     "output_type": "stream",
     "text": [
      "Automatic pdb calling has been turned OFF\n",
      "WARNING:tensorflow:SavedModel saved prior to TF 2.5 detected when loading Keras model. Please ensure that you are saving the model with model.save() or tf.keras.models.save_model(), *NOT* tf.saved_model.save(). To confirm, there should be a file named \"keras_metadata.pb\" in the SavedModel directory.\n"
     ]
    },
    {
     "name": "stderr",
     "output_type": "stream",
     "text": [
      "WARNING:tensorflow:SavedModel saved prior to TF 2.5 detected when loading Keras model. Please ensure that you are saving the model with model.save() or tf.keras.models.save_model(), *NOT* tf.saved_model.save(). To confirm, there should be a file named \"keras_metadata.pb\" in the SavedModel directory.\n"
     ]
    },
    {
     "name": "stdout",
     "output_type": "stream",
     "text": [
      "recon mae:  tf.Tensor(139.1983, shape=(), dtype=float32)\n"
     ]
    },
    {
     "data": {
      "image/png": "[encoded data removed]",
      "text/plain": [
       "<Figure size 640x480 with 1 Axes>"
      ]
     },
     "metadata": {},
     "output_type": "display_data"
    },
    {
     "data": {
      "image/png": "[encoded data removed]",
      "text/plain": [
       "<Figure size 640x480 with 1 Axes>"
      ]
     },
     "metadata": {},
     "output_type": "display_data"
    }
   ],
   "source": [
    "%pdb off\n",
    "import tensorflow as tf\n",
    "import tensorflow.keras as keras\n",
    "from tensorflow.keras import layers as L\n",
    "#in_shape=(8,25)\n",
    "#x=tf.ones(shape=in_shape)\n",
    "keras_version = keras.models.load_model(tf_model_path)\n",
    "actual_output=keras_version(input=test_inputs)['output']\n",
    "#print('sample output: ', actual_output)\n",
    "mae=tf.reduce_mean(tf.math.abs(actual_output-target_outputs))\n",
    "print('recon mae: ', mae)\n",
    "\n",
    "import matplotlib.pyplot as plt\n",
    "plt.imshow(actual_output)\n",
    "plt.show()\n",
    "plt.imshow(target_outputs)\n",
    "plt.show()"
   ]
  },
  {
   "cell_type": "code",
   "execution_count": null,
   "id": "b8e66228-cdc0-4839-ad1e-d30530f55805",
   "metadata": {},
   "outputs": [],
   "source": [
    "#output = input = L.Input(in_shape[1:])\n",
    "#output = L.Dense(64, activation='selu', name='in_wrapping_layer')(output)\n",
    "#output = keras_version(input=output)['output']\n",
    "#output = L.Dense(64, activation='selu', name='out_wrapping_layer')(output)\n",
    "#keras_wrapper = keras.models.Model(inputs=input, outputs=output)\n",
    "##keras_wrapper = keras.models.Sequential()\n",
    "##keras_wrapper.add(L.Dense(64, activation='selu', name='in_wrapping_layer'))\n",
    "#keras_wrapper.summary()"
   ]
  },
  {
   "cell_type": "code",
   "execution_count": null,
   "id": "a0f48c86-9dab-492c-a2bd-88362275e1d8",
   "metadata": {},
   "outputs": [],
   "source": []
  }
 ],
 "metadata": {
  "kernelspec": {
   "display_name": "Python 3 (ipykernel)",
   "language": "python",
   "name": "python3"
  },
  "language_info": {
   "codemirror_mode": {
    "name": "ipython",
    "version": 3
   },
   "file_extension": ".py",
   "mimetype": "text/x-python",
   "name": "python",
   "nbconvert_exporter": "python",
   "pygments_lexer": "ipython3",
   "version": "3.9.0"
  }
 },
 "nbformat": 4,
 "nbformat_minor": 5
}
