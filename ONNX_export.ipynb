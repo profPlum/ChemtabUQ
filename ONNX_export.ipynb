{
 "cells": [
  {
   "cell_type": "code",
   "execution_count": null,
   "id": "f33f5138",
   "metadata": {
    "scrolled": true
   },
   "outputs": [],
   "source": [
    "import pytorch_lightning as pl\n",
    "import torch as pt\n",
    "\n",
    "# MUST import tensorflow SECOND or else you will encounter ambiguous error!\n",
    "import tensorflow as tf\n",
    "physical_devices = tf.config.list_physical_devices('GPU')\n",
    "tf.config.experimental.set_memory_growth(physical_devices[0], True)\n",
    "\n",
    "import ChemtabUQ"
   ]
  },
  {
   "cell_type": "code",
   "execution_count": null,
   "id": "1fa6dd95",
   "metadata": {
    "scrolled": true
   },
   "outputs": [],
   "source": [
    "ckpt_path='../CT_logs_Mu/MAPE-PCA-CT/version_13420071/checkpoints/epoch=10891-step=10892.ckpt'\n",
    "PL_module = ChemtabUQ.FFRegressor.load_from_checkpoint(ckpt_path, input_size=25)\n",
    "print(PL_module)"
   ]
  },
  {
   "cell_type": "code",
   "execution_count": null,
   "id": "745a3ed0-1ed1-4939-becc-8dd5ad4e1ee4",
   "metadata": {},
   "outputs": [],
   "source": [
    "# this works but is unneeded! simple solution below!\n",
    "\"\"\"\n",
    "# from here: https://stackoverflow.com/questions/76839366/tf-rep-export-graphtf-model-path-keyerror-input-1\n",
    "def convert_names_workaround(onnx_model):\n",
    "    from onnx import helper\n",
    "    \n",
    "    # Define a mapping from old names to new names\n",
    "    name_map = {\"input.1\": \"input_1\"}\n",
    "    \n",
    "    # Initialize a list to hold the new inputs\n",
    "    new_inputs = []\n",
    "    \n",
    "    # Iterate over the inputs and change their names if needed\n",
    "    for inp in onnx_model.graph.input:\n",
    "        if inp.name in name_map:\n",
    "            # Create a new ValueInfoProto with the new name\n",
    "            new_inp = helper.make_tensor_value_info(name_map[inp.name],\n",
    "                                                    inp.type.tensor_type.elem_type,\n",
    "                                                    [dim.dim_value for dim in inp.type.tensor_type.shape.dim])\n",
    "            new_inputs.append(new_inp)\n",
    "        else:\n",
    "            new_inputs.append(inp)\n",
    "    \n",
    "    # Clear the old inputs and add the new ones\n",
    "    onnx_model.graph.ClearField(\"input\")\n",
    "    onnx_model.graph.input.extend(new_inputs)\n",
    "    \n",
    "    # Go through all nodes in the model and replace the old input name with the new one\n",
    "    for node in onnx_model.graph.node:\n",
    "        for i, input_name in enumerate(node.input):\n",
    "            if input_name in name_map:\n",
    "                node.input[i] = name_map[input_name]\n",
    "    return onnx_model\n",
    "\"\"\""
   ]
  },
  {
   "cell_type": "code",
   "execution_count": null,
   "id": "f0497977",
   "metadata": {},
   "outputs": [],
   "source": [
    "import os\n",
    "from glob import glob\n",
    "print(os.getcwd())\n",
    "print(glob('../CT_logs_Mu/MAPE-PCA-CT/*/checkpoints/*'))"
   ]
  },
  {
   "cell_type": "code",
   "execution_count": null,
   "id": "6b41f842",
   "metadata": {},
   "outputs": [],
   "source": [
    "onnx_model_path = os.path.dirname(ckpt_path)+'/model.onnx'\n",
    "print(onnx_model_path)\n",
    "PL_module.to_onnx(onnx_model_path, \n",
    "                  input_names=['input'], output_names=['output'],\n",
    "                  dynamic_axes={'input' : {0 : 'batch_size'}, # variable length axes\n",
    "                                'output' : {0 : 'batch_size'}})\n",
    "\n",
    "\"\"\"\n",
    "torch.onnx.export(torch_model,               # model being run\n",
    "                  x,                         # model input (or a tuple for multiple inputs)\n",
    "                  \"super_resolution.onnx\",   # where to save the model (can be a file or file-like object)\n",
    "                  export_params=True,        # store the trained parameter weights inside the model file\n",
    "                  opset_version=10,          # the ONNX version to export the model to\n",
    "                  do_constant_folding=True,  # whether to execute constant folding for optimization\n",
    "                  input_names = ['input'],   # the model's input names\n",
    "                  output_names = ['output'], # the model's output names\n",
    "                  dynamic_axes={'input' : {0 : 'batch_size'},    # variable length axes\n",
    "                                'output' : {0 : 'batch_size'}})\n",
    "\"\"\""
   ]
  },
  {
   "cell_type": "code",
   "execution_count": null,
   "id": "ba96c313",
   "metadata": {},
   "outputs": [],
   "source": [
    "%pdb on\n",
    "import onnx\n",
    "from onnx_tf.backend import prepare\n",
    "onnx_model = onnx.load(onnx_model_path)\n",
    "tf_rep = prepare(onnx_model)\n",
    "tf_model_path = os.path.dirname(ckpt_path)+'/model_TF'\n",
    "tf_rep.export_graph(tf_model_path)\n",
    "#print(onnx_model)"
   ]
  },
  {
   "cell_type": "code",
   "execution_count": null,
   "id": "5bc86b3d-1660-44cb-a25b-41cb49506e66",
   "metadata": {},
   "outputs": [],
   "source": [
    "%pdb off\n",
    "import tensorflow as tf\n",
    "import tensorflow.keras as keras\n",
    "x=tf.zeros(shape=(32,25))\n",
    "keras_version = keras.models.load_model(tf_model_path)\n",
    "keras_version(input=x)"
   ]
  },
  {
   "cell_type": "code",
   "execution_count": null,
   "id": "237f7984-7026-42dd-b1ac-47b394456686",
   "metadata": {},
   "outputs": [],
   "source": [
    "res = os.popen(f'onnx-tf convert -i {onnx_model_path} -o output.pb')\n",
    "print(res)\n",
    "#%onnx-tf convert -t tf -i ../CT_logs_Mu/MAPE-PCA-CT/version_13420071/checkpoints/model.onnx -o output.pb"
   ]
  }
 ],
 "metadata": {
  "kernelspec": {
   "display_name": "Python 3 (ipykernel)",
   "language": "python",
   "name": "python3"
  },
  "language_info": {
   "codemirror_mode": {
    "name": "ipython",
    "version": 3
   },
   "file_extension": ".py",
   "mimetype": "text/x-python",
   "name": "python",
   "nbconvert_exporter": "python",
   "pygments_lexer": "ipython3",
   "version": "3.9.0"
  }
 },
 "nbformat": 4,
 "nbformat_minor": 5
}
