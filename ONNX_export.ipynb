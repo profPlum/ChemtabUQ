{
 "cells": [
  {
   "cell_type": "code",
   "execution_count": null,
   "id": "f33f5138",
   "metadata": {},
   "outputs": [],
   "source": [
    "import pytorch_lightning as pl\n",
    "import torch as th\n",
    "import ChemtabUQ"
   ]
  },
  {
   "cell_type": "code",
   "execution_count": null,
   "id": "1fa6dd95",
   "metadata": {},
   "outputs": [],
   "source": [
    "ckpt_path='../CT_logs_Mu/MAPE-PCA-CT/version_13420071/checkpoints/epoch=10891-step=10892.ckpt'\n",
    "PL_module = ChemtabUQ.FFRegressor.load_from_checkpoint(ckpt_path, input_size=25)"
   ]
  },
  {
   "cell_type": "code",
   "execution_count": null,
   "id": "f0497977",
   "metadata": {},
   "outputs": [],
   "source": [
    "import os\n",
    "from glob import glob\n",
    "print(os.getcwd())\n",
    "print(glob('../CT_logs_Mu/MAPE-PCA-CT/*/checkpoints/*'))"
   ]
  },
  {
   "cell_type": "code",
   "execution_count": null,
   "id": "6b41f842",
   "metadata": {},
   "outputs": [],
   "source": [
    "onnx_model_path = os.path.dirname(ckpt_path)+'/model.onnx'\n",
    "PL_module.to_onnx(onnx_model_path)"
   ]
  },
  {
   "cell_type": "code",
   "execution_count": null,
   "id": "ba96c313",
   "metadata": {},
   "outputs": [],
   "source": [
    "import onnx\n",
    "from onnx_tf.backend import prepare\n",
    "onnx_model = onnx.load(onnx_model_path)\n",
    "tf_rep = prepare(onnx_model)\n",
    "tf_rep.export_graph(os.path.dirname(ckpt_path)+'/model.pb')"
   ]
  },
  {
   "cell_type": "code",
   "execution_count": null,
   "id": "01546766",
   "metadata": {},
   "outputs": [],
   "source": [
    "\"\"\"%pip install onnx\n",
    "%pip install onnx_tf\n",
    "%pip install tensorflow_probability\"\"\"\n",
    "\n",
    "%pip uninstall -y tensorflow\n",
    "%pip install tensorflow\n",
    "%pip uninstall -y tensorflow_probability\n",
    "%pip install tensorflow_probability==0.19.0"
   ]
  },
  {
   "cell_type": "code",
   "execution_count": null,
   "id": "40852cbb",
   "metadata": {},
   "outputs": [],
   "source": [
    "%pip show tensorflow_probability"
   ]
  },
  {
   "cell_type": "code",
   "execution_count": null,
   "id": "b596673c",
   "metadata": {},
   "outputs": [],
   "source": []
  }
 ],
 "metadata": {
  "kernelspec": {
   "display_name": "Python 3 (ipykernel)",
   "language": "python",
   "name": "python3"
  },
  "language_info": {
   "codemirror_mode": {
    "name": "ipython",
    "version": 3
   },
   "file_extension": ".py",
   "mimetype": "text/x-python",
   "name": "python",
   "nbconvert_exporter": "python",
   "pygments_lexer": "ipython3",
   "version": "3.8.16"
  }
 },
 "nbformat": 4,
 "nbformat_minor": 5
}
