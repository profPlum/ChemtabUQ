{
 "cells": [
  {
   "cell_type": "code",
   "execution_count": 1,
   "id": "d6283ac7-c0f9-48d0-9690-eddac4175766",
   "metadata": {},
   "outputs": [
    {
     "name": "stderr",
     "output_type": "stream",
     "text": [
      "2023-10-13 21:22:16.388981: I tensorflow/core/util/port.cc:110] oneDNN custom operations are on. You may see slightly different numerical results due to floating-point round-off errors from different computation orders. To turn them off, set the environment variable `TF_ENABLE_ONEDNN_OPTS=0`.\n",
      "2023-10-13 21:22:16.422777: I tensorflow/core/platform/cpu_feature_guard.cc:182] This TensorFlow binary is optimized to use available CPU instructions in performance-critical operations.\n",
      "To enable the following instructions: AVX2 AVX512F AVX512_VNNI FMA, in other operations, rebuild TensorFlow with the appropriate compiler flags.\n",
      "2023-10-13 21:22:17.057067: W tensorflow/compiler/tf2tensorrt/utils/py_utils.cc:38] TF-TRT Warning: Could not find TensorRT\n"
     ]
    }
   ],
   "source": [
    "import pytorch_lightning as pl\n",
    "import torch as pt\n",
    "\n",
    "# MUST import tensorflow SECOND or else you will encounter ambiguous error!\n",
    "import tensorflow as tf\n",
    "physical_devices = tf.config.list_physical_devices('GPU')\n",
    "tf.config.experimental.set_memory_growth(physical_devices[0], True)\n",
    "\n",
    "from tensorflow import keras\n",
    "from tensorflow.keras import layers as L"
   ]
  },
  {
   "cell_type": "code",
   "execution_count": null,
   "id": "667eefe0-43b3-44eb-8cb4-13f0da16905e",
   "metadata": {},
   "outputs": [],
   "source": [
    "model = keras.models.load_model('PCDNNV2_decomp/regressor')"
   ]
  },
  {
   "cell_type": "code",
   "execution_count": null,
   "id": "8007d971-81f0-4ad4-a354-b172a054c1b7",
   "metadata": {},
   "outputs": [],
   "source": [
    "model.summary()"
   ]
  },
  {
   "cell_type": "code",
   "execution_count": 2,
   "id": "329fd1c8-acc2-4b39-a0da-4edbe3b2907c",
   "metadata": {},
   "outputs": [
    {
     "ename": "NameError",
     "evalue": "name 'model' is not defined",
     "output_type": "error",
     "traceback": [
      "\u001b[0;31m---------------------------------------------------------------------------\u001b[0m",
      "\u001b[0;31mNameError\u001b[0m                                 Traceback (most recent call last)",
      "Cell \u001b[0;32mIn[2], line 2\u001b[0m\n\u001b[1;32m      1\u001b[0m tf\u001b[38;5;241m.\u001b[39mkeras\u001b[38;5;241m.\u001b[39mutils\u001b[38;5;241m.\u001b[39mplot_model(\n\u001b[0;32m----> 2\u001b[0m     \u001b[43mmodel\u001b[49m,\n\u001b[1;32m      3\u001b[0m     show_shapes\u001b[38;5;241m=\u001b[39m\u001b[38;5;28;01mTrue\u001b[39;00m,\n\u001b[1;32m      4\u001b[0m     show_dtype\u001b[38;5;241m=\u001b[39m\u001b[38;5;28;01mTrue\u001b[39;00m,\n\u001b[1;32m      5\u001b[0m     show_layer_names\u001b[38;5;241m=\u001b[39m\u001b[38;5;28;01mTrue\u001b[39;00m,\n\u001b[1;32m      6\u001b[0m     rankdir\u001b[38;5;241m=\u001b[39m\u001b[38;5;124m\"\u001b[39m\u001b[38;5;124mTB\u001b[39m\u001b[38;5;124m\"\u001b[39m,\n\u001b[1;32m      7\u001b[0m     expand_nested\u001b[38;5;241m=\u001b[39m\u001b[38;5;28;01mFalse\u001b[39;00m,\n\u001b[1;32m      8\u001b[0m     dpi\u001b[38;5;241m=\u001b[39m\u001b[38;5;241m96\u001b[39m,\n\u001b[1;32m      9\u001b[0m     layer_range\u001b[38;5;241m=\u001b[39m\u001b[38;5;28;01mNone\u001b[39;00m,\n\u001b[1;32m     10\u001b[0m     show_layer_activations\u001b[38;5;241m=\u001b[39m\u001b[38;5;28;01mFalse\u001b[39;00m,\n\u001b[1;32m     11\u001b[0m     show_trainable\u001b[38;5;241m=\u001b[39m\u001b[38;5;28;01mFalse\u001b[39;00m,\n\u001b[1;32m     12\u001b[0m )\n",
      "\u001b[0;31mNameError\u001b[0m: name 'model' is not defined"
     ]
    }
   ],
   "source": [
    "tf.keras.utils.plot_model(\n",
    "    model,\n",
    "    show_shapes=True,\n",
    "    show_dtype=True,\n",
    "    show_layer_names=True,\n",
    "    rankdir=\"TB\",\n",
    "    expand_nested=False,\n",
    "    dpi=96,\n",
    "    layer_range=None,\n",
    "    show_layer_activations=False,\n",
    "    show_trainable=False,\n",
    ")"
   ]
  },
  {
   "cell_type": "code",
   "execution_count": 1,
   "id": "658f388a-cc96-4b6d-9edb-fc037f0ecdcc",
   "metadata": {},
   "outputs": [
    {
     "ename": "FileNotFoundError",
     "evalue": "[Errno 2] No such file or directory: './PCDNNV2_decomp'",
     "output_type": "error",
     "traceback": [
      "\u001b[0;31m---------------------------------------------------------------------------\u001b[0m",
      "\u001b[0;31mFileNotFoundError\u001b[0m                         Traceback (most recent call last)",
      "Cell \u001b[0;32mIn[1], line 5\u001b[0m\n\u001b[1;32m      2\u001b[0m \u001b[38;5;28;01mfrom\u001b[39;00m \u001b[38;5;21;01mglob\u001b[39;00m \u001b[38;5;28;01mimport\u001b[39;00m glob\n\u001b[1;32m      3\u001b[0m \u001b[38;5;28;01mimport\u001b[39;00m \u001b[38;5;21;01mrandom\u001b[39;00m\n\u001b[0;32m----> 5\u001b[0m \u001b[38;5;28mprint\u001b[39m(\u001b[38;5;124m'\u001b[39m\u001b[38;5;124mPCDNNV2_decomp:\u001b[39m\u001b[38;5;124m'\u001b[39m, \u001b[43mos\u001b[49m\u001b[38;5;241;43m.\u001b[39;49m\u001b[43mlistdir\u001b[49m\u001b[43m(\u001b[49m\u001b[38;5;124;43m'\u001b[39;49m\u001b[38;5;124;43m./PCDNNV2_decomp\u001b[39;49m\u001b[38;5;124;43m'\u001b[39;49m\u001b[43m)\u001b[49m)\n\u001b[1;32m      7\u001b[0m Inv_ckpt \u001b[38;5;241m=\u001b[39m random\u001b[38;5;241m.\u001b[39mchoice(glob(\u001b[38;5;124m'\u001b[39m\u001b[38;5;124m../CT_logs_Mu/Inv*/version_*/checkpoints/*.ckpt\u001b[39m\u001b[38;5;124m'\u001b[39m))\n\u001b[1;32m      8\u001b[0m CPV_source_ckpt \u001b[38;5;241m=\u001b[39m random\u001b[38;5;241m.\u001b[39mchoice(glob(\u001b[38;5;124m'\u001b[39m\u001b[38;5;124m../CT_logs_Mu/Real*/version_*/checkpoints/*.ckpt\u001b[39m\u001b[38;5;124m'\u001b[39m))\n",
      "\u001b[0;31mFileNotFoundError\u001b[0m: [Errno 2] No such file or directory: './PCDNNV2_decomp'"
     ]
    }
   ],
   "source": [
    "import os\n",
    "from glob import glob\n",
    "import random\n",
    "\n",
    "print('PCDNNV2_decomp:', os.listdir('./PCDNNV2_decomp'))\n",
    "\n",
    "Inv_ckpt = random.choice(glob('../CT_logs_Mu/Inv*/version_*/checkpoints/*.ckpt'))\n",
    "CPV_source_ckpt = random.choice(glob('../CT_logs_Mu/Real*/version_*/checkpoints/*.ckpt'))\n",
    "Souener_ckpt = random.choice(glob('../CT_logs_Mu/Souener*/version_*/checkpoints/*.ckpt'))\n",
    "print('Inv checkpoint: ', Inv_ckpt)\n",
    "print('CPV_source checkpoint: ', CPV_source_ckpt)\n",
    "print('Energy_source checkpoints', Souener_ckpt)"
   ]
  },
  {
   "cell_type": "code",
   "execution_count": null,
   "id": "b74ac6bd-9f5e-4b0a-966f-fd0edb75c38a",
   "metadata": {},
   "outputs": [],
   "source": [
    "import ONNX_export\n",
    "CPV_source_model = ONNX_export.export_CT_model_for_ablate(CPV_source_ckpt)\n",
    "Souener_model = ONNX_export.export_CT_model_for_ablate(Souener_ckpt)\n",
    "Inv_model = ONNX_export.export_CT_model_for_ablate(Inv_ckpt, add_hard_l1_constraint=True)"
   ]
  },
  {
   "cell_type": "code",
   "execution_count": null,
   "id": "8d88dc70-4f00-4f3c-9405-285b57a962bf",
   "metadata": {},
   "outputs": [],
   "source": [
    "def make_aggregate_regressor(CPV_source_ckpt: str, souener_ckpt: str, inv_ckpt: str):\n",
    "    \"\"\" makes aggergate regressor with the same interfaces as CT V1 from individual models given from CT V2\"\"\"\n",
    "    print('Inv checkpoint: ', Inv_ckpt)\n",
    "    print('CPV_source checkpoint: ', CPV_source_ckpt)\n",
    "    print('Energy_source checkpoints', Souener_ckpt)\n",
    "    \n",
    "    import ONNX_export\n",
    "    CPV_source_model = ONNX_export.export_CT_model_for_ablate(CPV_source_ckpt)\n",
    "    Souener_model = ONNX_export.export_CT_model_for_ablate(souener_ckpt)\n",
    "    Inv_model = ONNX_export.export_CT_model_for_ablate(inv_ckpt, add_hard_l1_constraint=True)\n",
    "    # hard_l1_constraint is needed for Inv model only due to constraints on Yis\n",
    "    \n",
    "    assert Souener_model.output_shape[1]==1, 'invalid souener model!'\n",
    "    assert CPV_source_model.input_shape==CPV_source_model.output_shape, 'invalid CPV_Source model!'\n",
    "    assert Inv_model.input_shape[1]<Inv_model.output_shape[1], 'invalid inverse model!'\n",
    "    assert CPV_source_model.input_shape==Souener_model.input_shape==Inv_model.input_shape, 'incompatible models!'\n",
    "\n",
    "    input_shape = CPV_source_model.input_shape[1:]\n",
    "    print('input_shape: ', input_shape)\n",
    "    input_=L.Input(shape=CPV_source_model.input_shape[1:], name='input_1')\n",
    "    \n",
    "    dynamic_source_prediction = L.Rescaling(1.0, name='dynamic_source_prediction')(CPV_source_model(input_))\n",
    "    static_source_prediction = L.Concatenate(name='static_source_prediction')([Souener_model(input_), Inv_model(input_)])\n",
    "    \n",
    "    outputs={'static_source_prediction': static_source_prediction, 'dynamic_source_prediction': dynamic_source_prediction}\n",
    "    aggergate_regressor = keras.models.Model(inputs=input_, outputs=outputs, name='V2_aggergate_regressor')\n",
    "    print('aggregate regressor summary: ')\n",
    "    aggergate_regressor.summary()\n",
    "    print('aggregate regressor input_shape: ', aggergate_regressor.input_shape)\n",
    "    print('aggregate regressor output_shape: ', aggergate_regressor.output_shape)\n",
    "    tf.keras.utils.plot_model(aggergate_regressor, to_file='aggregate_regressor.png', show_shapes=True, show_dtype=True)\n",
    "    return aggergate_regressor\n",
    "aggergate_regressor = make_aggregate_regressor(CPV_source_ckpt, Souener_ckpt, Inv_ckpt)"
   ]
  },
  {
   "cell_type": "code",
   "execution_count": null,
   "id": "5a90bbc3-2b03-4b08-9858-ac40f81062c1",
   "metadata": {},
   "outputs": [],
   "source": [
    "tf.keras.utils.plot_model(\n",
    "    aggergate_regressor,\n",
    "    to_file='aggregate_regressor.png',\n",
    "    show_shapes=True,\n",
    "    show_dtype=True\n",
    ")"
   ]
  },
  {
   "cell_type": "code",
   "execution_count": null,
   "id": "afaa9d02-3bbf-455f-90a6-32486c6cf95c",
   "metadata": {},
   "outputs": [],
   "source": [
    "import numpy as np\n",
    "import matplotlib.pyplot as plt\n",
    "\n",
    "dummy_inputs = np.random.randn(100,25)\n",
    "plt.imshow(dummy_inputs)\n",
    "plt.title('dummy_inputs')\n",
    "plt.show()\n",
    "\n",
    "def inspect_outputs(outputs, model_name: str):\n",
    "    plt.imshow(outputs['dynamic_source_prediction'])\n",
    "    plt.title(f'CPV_source-{model_name}_outputs')\n",
    "    plt.show()\n",
    "    plt.imshow(outputs['static_source_prediction'][:,1:])\n",
    "    plt.title(f'Inv-{model_name}_outputs')\n",
    "    plt.show()\n",
    "    plt.hist(np.asarray(outputs['static_source_prediction'][:,:1]).squeeze())\n",
    "    plt.title(f'Souener-{model_name}_outputs')\n",
    "    plt.show()\n",
    "inspect_outputs(model(dummy_inputs[:, :13]), 'org')"
   ]
  },
  {
   "cell_type": "code",
   "execution_count": null,
   "id": "aec92385-eca3-4516-abd6-abb6e1c011d0",
   "metadata": {},
   "outputs": [],
   "source": [
    "agg_outputs = aggergate_regressor(dummy_inputs)\n",
    "inspect_outputs(agg_outputs, 'agg')"
   ]
  },
  {
   "cell_type": "code",
   "execution_count": null,
   "id": "bed7d56c-16da-4dd6-a8cb-100ae18ae230",
   "metadata": {},
   "outputs": [],
   "source": [
    "# manually combine invidual small model preds into agg prediction to compare!\n",
    "CPV_source_pred = CPV_source_model(dummy_inputs)\n",
    "souener_pred = Souener_model(dummy_inputs).numpy().reshape(-1,1)\n",
    "inv_pred = Inv_model(dummy_inputs)\n",
    "manually_constructed_outputs = {'static_source_prediction': np.concatenate([souener_pred, inv_pred], axis=1), 'dynamic_source_prediction': CPV_source_pred}\n",
    "\n",
    "inspect_outputs(manually_constructed_outputs, 'manual')"
   ]
  },
  {
   "cell_type": "code",
   "execution_count": null,
   "id": "e04064fe-3380-4a3f-8b26-8bf78475e066",
   "metadata": {},
   "outputs": [],
   "source": [
    "agg_outputs['static_source_prediction'][:, 1:]"
   ]
  },
  {
   "cell_type": "code",
   "execution_count": null,
   "id": "1bcd285b-0ea0-477f-9aff-138242faa0a7",
   "metadata": {},
   "outputs": [],
   "source": []
  },
  {
   "cell_type": "code",
   "execution_count": null,
   "id": "02674850-dc46-47fb-9759-f883ca335733",
   "metadata": {},
   "outputs": [],
   "source": []
  }
 ],
 "metadata": {
  "kernelspec": {
   "display_name": "Python 3 (ipykernel)",
   "language": "python",
   "name": "python3"
  },
  "language_info": {
   "codemirror_mode": {
    "name": "ipython",
    "version": 3
   },
   "file_extension": ".py",
   "mimetype": "text/x-python",
   "name": "python",
   "nbconvert_exporter": "python",
   "pygments_lexer": "ipython3",
   "version": "3.9.0"
  }
 },
 "nbformat": 4,
 "nbformat_minor": 5
}
